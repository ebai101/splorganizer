{
 "cells": [
  {
   "cell_type": "code",
   "execution_count": 1,
   "metadata": {},
   "outputs": [],
   "source": [
    "import os\n",
    "import re\n",
    "import shutil\n",
    "import json\n",
    "from pathlib import Path\n",
    "import sqlite3\n",
    "import pandas as pd\n",
    "from splorganizer_paths import *\n",
    "\n",
    "pd.set_option('display.max_rows', None)\n",
    "pd.set_option('display.max_columns', None)\n",
    "pd.set_option('display.width', None)\n",
    "pd.set_option('display.max_colwidth', None)"
   ]
  },
  {
   "cell_type": "code",
   "execution_count": 2,
   "metadata": {},
   "outputs": [],
   "source": [
    "# open databases\n",
    "sounds_db = sqlite3.connect('sounds.db')\n",
    "with open ('hierarchy.json', 'r') as f:\n",
    "    hierarchy = json.loads(f.read())\n",
    "with open ('db_info.json', 'r') as f:\n",
    "    db_info = json.loads(f.read())"
   ]
  },
  {
   "cell_type": "code",
   "execution_count": 3,
   "metadata": {},
   "outputs": [],
   "source": [
    "# sqlite regex function\n",
    "def regexp(expr, item):\n",
    "    try:\n",
    "        reg = re.compile(expr)\n",
    "        return reg.search(item) is not None\n",
    "    except Exception as e:\n",
    "        print(e)\n",
    "sounds_db.create_function(\"REGEXP\", 2, regexp)"
   ]
  },
  {
   "cell_type": "code",
   "execution_count": 4,
   "metadata": {},
   "outputs": [],
   "source": [
    "def reset_filetree():\n",
    "    for dirname in os.scandir (sorted_dir):\n",
    "        shutil.rmtree (dirname.path)\n",
    "    for dirname in hierarchy['sample_dirs'].keys():\n",
    "        os.mkdir (sorted_dir + '/' + dirname)\n",
    "    os.mkdir (sorted_dir + '/' + hierarchy['catchall']['dirname'])"
   ]
  },
  {
   "cell_type": "code",
   "execution_count": 5,
   "metadata": {},
   "outputs": [],
   "source": [
    "def get_samples (cat, custom_query=None):\n",
    "    if 'query' in cat:\n",
    "        query = cat['query']\n",
    "    else:\n",
    "        query = \"\"\"\n",
    "        select * from samples \n",
    "        where tags regexp '{tag_regex}'\n",
    "        and filename regexp '{file_regex}'\n",
    "        {loop_filter}\n",
    "        and local_path not null;\"\"\".format (\n",
    "            tag_regex = cat['tag_regex'],\n",
    "            file_regex = cat['file_regex'],\n",
    "            loop_filter = \"and sample_type = 'oneshot'\" if not cat['include_loops'] else \"\"\n",
    "        ) if not custom_query else custom_query\n",
    "    \n",
    "    with sounds_db:\n",
    "        return sounds_db.execute(query).fetchall()\n",
    "\n",
    "def samples_to_dataframe (samples):\n",
    "    return pd.DataFrame(samples,\n",
    "             columns=db_info['db_cols'])\\\n",
    "            .set_index ('id')\\\n",
    "            .drop(['local_path', 'attr_hash', 'file_hash', 'sas_id', 'genre', 'pack_uuid', 'purchased_at', 'last_modified_at', 'waveform_url'], axis=1)"
   ]
  },
  {
   "cell_type": "code",
   "execution_count": 6,
   "metadata": {},
   "outputs": [],
   "source": [
    "# create link directory\n",
    "def generate_links (dirname, samples):\n",
    "    for row in samples:\n",
    "        sample_path = row[1]\n",
    "        filename = row[10]\n",
    "        link_path = '{}/{}/{}'.format(sorted_dir, dirname, filename)\n",
    "        \n",
    "        if not os.path.exists(link_path):\n",
    "            os.symlink(sample_path, link_path)"
   ]
  },
  {
   "cell_type": "code",
   "execution_count": 7,
   "metadata": {
    "scrolled": true
   },
   "outputs": [],
   "source": [
    "# main program\n",
    "reset_filetree()\n",
    "\n",
    "sorted_samps = {}\n",
    "catchall = ''\n",
    "\n",
    "# process samples\n",
    "for i in hierarchy['sample_dirs'].keys():\n",
    "    sorted_samps[i] = get_samples (hierarchy['sample_dirs'][i])\n",
    "    generate_links (i, sorted_samps[i])\n",
    "    \n",
    "# catchall (percussion)\n",
    "catchall_samps = get_samples (hierarchy['catchall'])\n",
    "for i in sorted_samps.keys():\n",
    "    for samp in sorted_samps[i]:\n",
    "        if samp in catchall_samps:\n",
    "            catchall_samps.remove(samp)\n",
    "generate_links (hierarchy['catchall']['dirname'], catchall_samps)"
   ]
  }
 ],
 "metadata": {
  "kernelspec": {
   "display_name": "Python 3",
   "language": "python",
   "name": "python3"
  },
  "language_info": {
   "codemirror_mode": {
    "name": "ipython",
    "version": 3
   },
   "file_extension": ".py",
   "mimetype": "text/x-python",
   "name": "python",
   "nbconvert_exporter": "python",
   "pygments_lexer": "ipython3",
   "version": "3.8.2"
  }
 },
 "nbformat": 4,
 "nbformat_minor": 4
}
